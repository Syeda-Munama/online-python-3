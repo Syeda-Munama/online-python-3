{
 "cells": [
  {
   "cell_type": "code",
   "execution_count": 2,
   "id": "9f7b8e1d",
   "metadata": {},
   "outputs": [
    {
     "name": "stdout",
     "output_type": "stream",
     "text": [
      "Twinkle,twinkle,little star,        \n",
      "        How I wonder what you are!                   \n",
      "               Up above the world so high,              \n",
      "               Like a diamond in the sky.   \n",
      " Twinkle,twinkle,little star,         \n",
      "         How I wonder what you are!\n"
     ]
    }
   ],
   "source": [
    "print(\"Twinkle,twinkle,little star,        \\n        How I wonder what you are!                   \\n               Up above the world so high,              \\n               Like a diamond in the sky.   \\n Twinkle,twinkle,little star,         \\n         How I wonder what you are!\");"
   ]
  },
  {
   "cell_type": "code",
   "execution_count": 3,
   "id": "05b0f31f",
   "metadata": {},
   "outputs": [
    {
     "name": "stdout",
     "output_type": "stream",
     "text": [
      "Python version\n",
      "3.8.8 (default, Apr 13 2021, 15:08:03) [MSC v.1916 64 bit (AMD64)]\n",
      "Version info.\n",
      "sys.version_info(major=3, minor=8, micro=8, releaselevel='final', serial=0)\n"
     ]
    }
   ],
   "source": [
    "import sys\n",
    "print(\"Python version\")\n",
    "print (sys.version)\n",
    "print(\"Version info.\")\n",
    "print (sys.version_info)"
   ]
  },
  {
   "cell_type": "code",
   "execution_count": 4,
   "id": "43ad93e8",
   "metadata": {},
   "outputs": [
    {
     "name": "stdout",
     "output_type": "stream",
     "text": [
      "Current date and time : \n",
      "2021-10-24 03:50:44\n"
     ]
    }
   ],
   "source": [
    "import datetime\n",
    "now = datetime.datetime.now()\n",
    "print (\"Current date and time : \")\n",
    "print (now.strftime(\"%Y-%m-%d %H:%M:%S\"))"
   ]
  },
  {
   "cell_type": "code",
   "execution_count": 5,
   "id": "4cd804b9",
   "metadata": {},
   "outputs": [
    {
     "name": "stdout",
     "output_type": "stream",
     "text": [
      "Radius of the circle :2\n",
      "The area of the circle with radius2.0is:12.566370614359172\n"
     ]
    }
   ],
   "source": [
    "from math import pi \n",
    "r = float(input(\"Radius of the circle :\"));\n",
    "print(\"The area of the circle with radius\" + str(r) + \"is:\" + str(pi*r**2))"
   ]
  },
  {
   "cell_type": "code",
   "execution_count": 6,
   "id": "47544cc1",
   "metadata": {},
   "outputs": [
    {
     "name": "stdout",
     "output_type": "stream",
     "text": [
      "First Name :Syeda\n",
      "Last Name :Munama\n",
      "Munama Syeda\n"
     ]
    }
   ],
   "source": [
    "first_name = input(\"First Name :\");\n",
    "last_name = input(\"Last Name :\");\n",
    "print(last_name + \" \" + first_name)"
   ]
  },
  {
   "cell_type": "code",
   "execution_count": 7,
   "id": "b38329e6",
   "metadata": {},
   "outputs": [
    {
     "name": "stdout",
     "output_type": "stream",
     "text": [
      "Enter Your English Marks : 87\n",
      "Enter Your Mathematics Marks : 88\n",
      "Enter Your Science Marks : 90\n",
      "Enter Your Islamiat Marks : 78\n",
      "Enter Your Urdu Marks : 91\n",
      "Your Grade is A+\n"
     ]
    }
   ],
   "source": [
    "english = int(input(\"Enter Your English Marks : \"));\n",
    "maths = int(input(\"Enter Your Mathematics Marks : \"));\n",
    "science = int(input(\"Enter Your Science Marks : \"));\n",
    "isl = int(input(\"Enter Your Islamiat Marks : \"));\n",
    "urdu = int(input(\"Enter Your Urdu Marks : \"));\n",
    "total = english + maths + science + isl + urdu \n",
    "avg = total / 5\n",
    "if avg <= 100 and avg >= 80:\n",
    "    print(\"Your Grade is A+\");\n",
    "elif avg < 80 and avg >= 70:\n",
    "    print(\"Your Grade is A\");\n",
    "elif avg < 70 and avg >= 60:\n",
    "    print(\"Your Grade is B\");\n",
    "elif avg < 60 and avg >= 50:\n",
    "    print(\"Your Grade is C\");\n",
    "elif avg < 50 and avg >= 40:\n",
    "    print(\"Your Grade is D\");\n",
    "elif avg < 40 and avg >= 33:\n",
    "    print(\"Your Grade is E\");\n",
    "elif avg > 0 and avg <= 100:\n",
    "    print(\"You did not write the correct Marks\");\n",
    "else:\n",
    "    print(\"Your Grade is F\");"
   ]
  },
  {
   "cell_type": "code",
   "execution_count": 8,
   "id": "c5dc8a19",
   "metadata": {},
   "outputs": [
    {
     "name": "stdout",
     "output_type": "stream",
     "text": [
      "Enter a number: 7\n",
      "It is an Odd Number\n"
     ]
    }
   ],
   "source": [
    "num = int(input(\"Enter a number: \"))\n",
    "x = num % 2 \n",
    "if x == 0:\n",
    "    print(\"It is an Even Number\");\n",
    "else:\n",
    "    print(\"It is an Odd Number\");"
   ]
  },
  {
   "cell_type": "code",
   "execution_count": 9,
   "id": "a2c42db2",
   "metadata": {},
   "outputs": [
    {
     "name": "stdout",
     "output_type": "stream",
     "text": [
      "7\n"
     ]
    }
   ],
   "source": [
    "lst = ['Python','Java','JavaScript','Ruby','Perl','PHP','Swift']\n",
    "lenght = len(lst)\n",
    "print(lenght)"
   ]
  },
  {
   "cell_type": "code",
   "execution_count": 10,
   "id": "ca385156",
   "metadata": {},
   "outputs": [
    {
     "name": "stdout",
     "output_type": "stream",
     "text": [
      "How many numbers: 2\n",
      "Enter number 9\n",
      "Enter number 7\n",
      "Sum of elements in given list is : 16\n"
     ]
    }
   ],
   "source": [
    "lst = []\n",
    "num = int(input('How many numbers: '))\n",
    "for n in range(num):\n",
    "    numbers = int(input('Enter number '))\n",
    "    lst.append(numbers)\n",
    "print(\"Sum of elements in given list is :\", sum(lst))"
   ]
  },
  {
   "cell_type": "code",
   "execution_count": 11,
   "id": "226f1a84",
   "metadata": {},
   "outputs": [
    {
     "name": "stdout",
     "output_type": "stream",
     "text": [
      "Largest element is: 98\n"
     ]
    }
   ],
   "source": [
    "list1 = [98,45,16,17,26,5,2,4]\n",
    "print(\"Largest element is:\", max(list1))"
   ]
  },
  {
   "cell_type": "code",
   "execution_count": 12,
   "id": "b075a971",
   "metadata": {},
   "outputs": [
    {
     "name": "stdout",
     "output_type": "stream",
     "text": [
      "4\n",
      "3\n",
      "2\n",
      "1\n",
      "4\n",
      "0\n"
     ]
    }
   ],
   "source": [
    "a = [7,8,4,3,2,1,8,5,4,9,0]\n",
    "for item in a:\n",
    "    if item < 5:\n",
    "        print(item)"
   ]
  },
  {
   "cell_type": "code",
   "execution_count": 13,
   "id": "dd69e5d9",
   "metadata": {},
   "outputs": [
    {
     "name": "stdout",
     "output_type": "stream",
     "text": [
      "enter first number: 46\n",
      "enter second number: 78\n",
      "sum: 124\n"
     ]
    }
   ],
   "source": [
    "a = int(input(\"enter first number: \"))\n",
    "b = int(input(\"enter second number: \"))\n",
    "sum = a + b\n",
    "print(\"sum:\", sum)"
   ]
  },
  {
   "cell_type": "code",
   "execution_count": null,
   "id": "ee7ec527",
   "metadata": {},
   "outputs": [],
   "source": []
  }
 ],
 "metadata": {
  "kernelspec": {
   "display_name": "Python 3",
   "language": "python",
   "name": "python3"
  },
  "language_info": {
   "codemirror_mode": {
    "name": "ipython",
    "version": 3
   },
   "file_extension": ".py",
   "mimetype": "text/x-python",
   "name": "python",
   "nbconvert_exporter": "python",
   "pygments_lexer": "ipython3",
   "version": "3.8.8"
  }
 },
 "nbformat": 4,
 "nbformat_minor": 5
}
